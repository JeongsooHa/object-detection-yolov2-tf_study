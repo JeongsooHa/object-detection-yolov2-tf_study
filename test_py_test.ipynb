{
 "cells": [
  {
   "cell_type": "code",
   "execution_count": 1,
   "metadata": {},
   "outputs": [],
   "source": [
    "import os\n",
    "import numpy as np\n",
    "import tensorflow as tf\n",
    "from datasets import data as dataset\n",
    "from models.nn import YOLO as ConvNet\n",
    "from learning.evaluators import RecallEvaluator as Evaluator\n",
    "from learning.utils import draw_pred_boxes, predict_nms_boxes, convert_boxes\n",
    "import cv2\n",
    "import glob"
   ]
  },
  {
   "cell_type": "code",
   "execution_count": 2,
   "metadata": {},
   "outputs": [],
   "source": [
    "\"\"\" 1. Load dataset \"\"\"\n",
    "root_dir = os.path.join('data/face')\n",
    "test_dir = os.path.join(root_dir, 'test')\n",
    "IM_SIZE = (416, 416)\n",
    "NUM_CLASSES = 1"
   ]
  },
  {
   "cell_type": "code",
   "execution_count": 3,
   "metadata": {},
   "outputs": [],
   "source": [
    "# Load test set\n",
    "X_test, y_test = dataset.read_data(test_dir, IM_SIZE)\n",
    "test_set = dataset.DataSet(X_test, y_test)\n"
   ]
  },
  {
   "cell_type": "code",
   "execution_count": 4,
   "metadata": {},
   "outputs": [],
   "source": [
    "\"\"\" 2. Set test hyperparameters \"\"\"\n",
    "anchors = dataset.load_json(os.path.join(test_dir, 'anchors.json'))\n",
    "class_map = dataset.load_json(os.path.join(test_dir, 'classes.json'))\n",
    "nms_flag = True\n",
    "hp_d = dict()\n",
    "hp_d['batch_size'] = 16\n",
    "hp_d['nms_flag'] = nms_flag"
   ]
  },
  {
   "cell_type": "code",
   "execution_count": 5,
   "metadata": {},
   "outputs": [
    {
     "name": "stdout",
     "output_type": "stream",
     "text": [
      "layer1.shape [None, 208, 208, 32]\n",
      "layer2.shape [None, 104, 104, 64]\n",
      "layer3.shape [None, 104, 104, 128]\n",
      "layer4.shape [None, 104, 104, 64]\n",
      "layer5.shape [None, 52, 52, 128]\n",
      "layer6.shape [None, 52, 52, 256]\n",
      "layer7.shape [None, 52, 52, 128]\n",
      "layer8.shape [None, 26, 26, 256]\n",
      "layer9.shape [None, 26, 26, 512]\n",
      "layer10.shape [None, 26, 26, 256]\n",
      "layer11.shape [None, 26, 26, 512]\n",
      "layer12.shape [None, 26, 26, 256]\n",
      "layer13.shape [None, 13, 13, 512]\n",
      "layer14.shape [None, 13, 13, 1024]\n",
      "layer15.shape [None, 13, 13, 512]\n",
      "layer16.shape [None, 13, 13, 1024]\n",
      "layer17.shape [None, 13, 13, 512]\n",
      "layer18.shape [None, 13, 13, 1024]\n",
      "layer19.shape [None, 13, 13, 1024]\n",
      "layer20.shape [None, 13, 13, 1024]\n",
      "layer21.shape [None, 13, 13, 1280]\n",
      "layer22.shape [None, 13, 13, 1024]\n",
      "pred.shape [None, 13, 13, 5, 6]\n",
      "INFO:tensorflow:Restoring parameters from /tmp/model.ckpt\n",
      "Test performance: 0.8552278820375335\n"
     ]
    }
   ],
   "source": [
    "\"\"\" 3. Build graph, load weights, initialize a session and start test \"\"\"\n",
    "# Initialize\n",
    "graph = tf.get_default_graph()\n",
    "config = tf.ConfigProto()\n",
    "config.gpu_options.allow_growth = True\n",
    "\n",
    "model = ConvNet([IM_SIZE[0], IM_SIZE[1], 3], NUM_CLASSES, anchors, grid_size=(IM_SIZE[0]//32, IM_SIZE[1]//32))\n",
    "evaluator = Evaluator()\n",
    "saver = tf.train.Saver()\n",
    "\n",
    "sess = tf.Session(graph=graph, config=config)\n",
    "saver.restore(sess, '/tmp/model.ckpt')\n",
    "test_y_pred = model.predict(sess, test_set, **hp_d)\n",
    "test_score = evaluator.score(test_set.labels, test_y_pred)\n",
    "\n",
    "print('Test performance: {}'.format(test_score))"
   ]
  },
  {
   "cell_type": "code",
   "execution_count": 6,
   "metadata": {},
   "outputs": [],
   "source": [
    "\"\"\" 4. Draw boxes on image \"\"\"\n",
    "draw_dir = os.path.join(test_dir, 'draws') # FIXME\n",
    "if not os.path.isdir(draw_dir):\n",
    "    os.mkdir(draw_dir)\n",
    "im_dir = os.path.join(test_dir, 'images') # FIXME\n",
    "im_paths = []\n",
    "im_paths.extend(glob.glob(os.path.join(im_dir, '*.jpg')))\n",
    "for idx, (img, y_pred, im_path) in enumerate(zip(test_set.images, test_y_pred, im_paths)):\n",
    "    name = im_path.split('/')[-1]\n",
    "    draw_path =os.path.join(draw_dir, name)\n",
    "    if nms_flag:\n",
    "        bboxes = predict_nms_boxes(y_pred, conf_thres=0.5, iou_thres=0.5)\n",
    "    else:\n",
    "        bboxes = convert_boxes(y_pred)\n",
    "    bboxes = bboxes[np.nonzero(np.any(bboxes > 0, axis=1))]\n",
    "    boxed_img = draw_pred_boxes(img, bboxes, class_map)\n",
    "    cv2.imwrite(draw_path, boxed_img)"
   ]
  },
  {
   "cell_type": "code",
   "execution_count": null,
   "metadata": {},
   "outputs": [],
   "source": []
  }
 ],
 "metadata": {
  "kernelspec": {
   "display_name": "Python 3",
   "language": "python",
   "name": "python3"
  },
  "language_info": {
   "codemirror_mode": {
    "name": "ipython",
    "version": 3
   },
   "file_extension": ".py",
   "mimetype": "text/x-python",
   "name": "python",
   "nbconvert_exporter": "python",
   "pygments_lexer": "ipython3",
   "version": "3.5.2"
  }
 },
 "nbformat": 4,
 "nbformat_minor": 2
}
